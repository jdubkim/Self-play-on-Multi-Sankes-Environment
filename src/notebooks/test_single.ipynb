{
 "cells": [
  {
   "cell_type": "code",
   "execution_count": 1,
   "metadata": {},
   "outputs": [],
   "source": [
    "import gym\n",
    "import sys\n",
    "import gym_snake\n",
    "from time import sleep\n",
    "import argparse"
   ]
  },
  {
   "cell_type": "code",
   "execution_count": 4,
   "metadata": {},
   "outputs": [
    {
     "name": "stdout",
     "output_type": "stream",
     "text": [
      "Observation: (16, 16)\n"
     ]
    }
   ],
   "source": [
    "parser = argparse.ArgumentParser()\n",
    "parser.add_argument('--env', type=str, default='snake-single-v0',\n",
    "  help=\"\"\"\\\n",
    "  Select environment ID.\n",
    "\"\"\")\n",
    "FLAGS, unparsed = parser.parse_known_args()\n",
    "\n",
    "env = gym.make(FLAGS.env)\n",
    "#env = gym.wrappers.Monitor(env, 'tmp_video')\n",
    "\n",
    "for e in range(3):\n",
    "    obs = env.reset()\n",
    "    done = False\n",
    "    r = 0\n",
    "    while not done:\n",
    "        action = env.action_space.sample()\n",
    "        obs, reward, done, info = env.step(action)\n",
    "        r += reward\n",
    "        env.render(mode='human')\n",
    "        sleep(0.01)\n",
    "\n",
    "print(\"Observation:\", obs.shape)\n",
    "env.renderer.close()"
   ]
  },
  {
   "cell_type": "code",
   "execution_count": null,
   "metadata": {},
   "outputs": [],
   "source": []
  }
 ],
 "metadata": {
  "kernelspec": {
   "display_name": "Python 3",
   "language": "python",
   "name": "python3"
  },
  "language_info": {
   "codemirror_mode": {
    "name": "ipython",
    "version": 3
   },
   "file_extension": ".py",
   "mimetype": "text/x-python",
   "name": "python",
   "nbconvert_exporter": "python",
   "pygments_lexer": "ipython3",
   "version": "3.6.3"
  }
 },
 "nbformat": 4,
 "nbformat_minor": 2
}
